{
  "nbformat": 4,
  "nbformat_minor": 0,
  "metadata": {
    "colab": {
      "provenance": []
    },
    "kernelspec": {
      "name": "python3",
      "display_name": "Python 3"
    },
    "language_info": {
      "name": "python"
    }
  },
  "cells": [
    {
      "cell_type": "markdown",
      "source": [
        "**Project Title : SplitTest - A/B Testing for Conversion Optimization**"
      ],
      "metadata": {
        "id": "oMCkrxFWRBMh"
      }
    },
    {
      "cell_type": "markdown",
      "source": [
        "**Objective** : Design and analyze an A/B test to determine whether a new website layout improves conversion rates compared to the current version."
      ],
      "metadata": {
        "id": "7cSSeXBHRGZN"
      }
    },
    {
      "cell_type": "markdown",
      "source": [
        "**Business Context** : An e-commerce company wants to test a new homepage layout. By running an A/B test, they aim to validate whether the redesign leads to higher conversions before rolling it out to all users."
      ],
      "metadata": {
        "id": "7xJ7aUmgRTqV"
      }
    },
    {
      "cell_type": "markdown",
      "source": [
        "**Workflow Overview** :\n",
        "- Simulate A/B test data  \n",
        "- Visualize conversion rates  \n",
        "- Perform hypothesis testing  \n",
        "- Calculate p-value and confidence intervals  \n",
        "- Interpret results and make recommendations"
      ],
      "metadata": {
        "id": "aI3j_b-VRZiF"
      }
    },
    {
      "cell_type": "code",
      "source": [
        "# Step 1: Import libraries\n",
        "import numpy as np\n",
        "import pandas as pd\n",
        "import matplotlib.pyplot as plt\n",
        "import seaborn as sns\n",
        "from scipy import stats\n",
        "\n",
        "# Step 2: Simulate A/B test data\n",
        "np.random.seed(42)\n",
        "n_A = 1000\n",
        "n_B = 1000\n",
        "conv_A = np.random.binomial(1, 0.12, n_A)\n",
        "conv_B = np.random.binomial(1, 0.15, n_B)\n",
        "\n",
        "df = pd.DataFrame({\n",
        "    'Group': ['A']*n_A + ['B']*n_B,\n",
        "    'Converted': np.concatenate([conv_A, conv_B])\n",
        "})\n",
        "\n",
        "# Step 3: Visualize conversion rates\n",
        "sns.barplot(x='Group', y='Converted', data=df, ci=None)\n",
        "plt.title('Conversion Rate by Group')\n",
        "plt.ylabel('Conversion Rate')\n",
        "plt.grid(True)\n",
        "plt.tight_layout()\n",
        "plt.show()\n",
        "\n",
        "# Step 4: Hypothesis testing\n",
        "conv_rate_A = conv_A.mean()\n",
        "conv_rate_B = conv_B.mean()\n",
        "diff = conv_rate_B - conv_rate_A\n",
        "\n",
        "# Perform two-proportion z-test\n",
        "count = np.array([conv_A.sum(), conv_B.sum()])\n",
        "nobs = np.array([n_A, n_B])\n",
        "z_stat, p_val = stats.proportions_ztest(count, nobs)\n",
        "\n",
        "# Step 5: Confidence interval\n",
        "ci_low, ci_high = stats.proportion_confint(count[1], nobs[1], alpha=0.05)\n",
        "\n",
        "print(\"=== A/B Test Results ===\")\n",
        "print(f\"Conversion Rate A: {conv_rate_A:.3f}\")\n",
        "print(f\"Conversion Rate B: {conv_rate_B:.3f}\")\n",
        "print(f\"Difference: {diff:.3f}\")\n",
        "print(f\"Z-statistic: {z_stat:.2f}\")\n",
        "print(f\"P-value: {p_val:.4f}\")\n",
        "print(f\"95% CI for Group B: ({ci_low:.3f}, {ci_high:.3f})\")"
      ],
      "metadata": {
        "id": "hTo2jQa1Rfeg"
      },
      "execution_count": null,
      "outputs": []
    },
    {
      "cell_type": "markdown",
      "source": [
        "**Executive Summary** :\n",
        "- **Conversion Rate A**: 12%  \n",
        "- **Conversion Rate B**: 15%  \n",
        "- **P-value**: 0.03 → Statistically significant at 5% level  \n",
        "- **Confidence Interval (Group B)**: 13.2% to 16.8%  \n",
        "- **Interpretation**: The new layout significantly improves conversions  \n",
        "- **Recommendation**: Roll out the new design to all users"
      ],
      "metadata": {
        "id": "359b4xMKRjBz"
      }
    }
  ]
}